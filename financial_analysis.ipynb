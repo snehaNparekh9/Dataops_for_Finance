Data Analysis and Reporting
In the data_analysis/ folder, create a Jupyter notebook called financial_analysis.ipynb to perform analysis and generate reports.
